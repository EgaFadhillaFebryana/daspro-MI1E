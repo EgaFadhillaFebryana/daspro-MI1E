{
 "cells": [
  {
   "cell_type": "markdown",
   "metadata": {},
   "source": [
    "# JOBSHEET 13. Fungsi 1\n",
    "Nama : Ega Fadhilla Febryana\n",
    "NIM : 2131710072"
   ]
  },
  {
   "cell_type": "markdown",
   "metadata": {},
   "source": [
    "## Tujuan\n",
    "* Mahasiswa mampu memahami penggunaan fungsi static pada Java dengan parameter dan mengembalikan nilai.\n",
    "* Mahasiswa mampu membuat program menggunakan fungsi static dan mengeksekusi fungsi tersebut.\n"
   ]
  },
  {
   "cell_type": "markdown",
   "metadata": {},
   "source": [
    "## Alat dan Bahan\n",
    "* PC/Laptop\n",
    "* Browser\n",
    "* Koneksi internet\n",
    "* Anaconda3 + Java kernel (opsional)"
   ]
  },
  {
   "cell_type": "markdown",
   "metadata": {},
   "source": [
    "## Praktikum"
   ]
  },
  {
   "cell_type": "markdown",
   "metadata": {},
   "source": [
    "### Percobaan 1: Fungsi Void (tidak menggunakan return value)\n",
    "\n",
    "1.\tBuat fungsi **beriSalam** bertipe void yang digunakan untuk mencetak **“Halo! Selamat Pagi”**.\n",
    "![Gambar 1](images/1.1.png)"
   ]
  },
  {
   "cell_type": "markdown",
   "metadata": {},
   "source": [
    "2. Eksekusi atau panggil fungsi **beriSalam**.\n",
    "![Gambar 2](images/1.2.png)"
   ]
  },
  {
   "cell_type": "code",
   "execution_count": 1,
   "metadata": {},
   "outputs": [
    {
     "name": "stdout",
     "output_type": "stream",
     "text": [
      "Halo ! Selamat Pagi\n"
     ]
    }
   ],
   "source": [
    "// Tuliskan kode program Percobaan 1 Langkah 1 & 2\n",
    "static void beriSalam(){\n",
    " System.out.println(\"Halo ! Selamat Pagi\");\n",
    "}\n",
    "beriSalam();"
   ]
  },
  {
   "cell_type": "markdown",
   "metadata": {},
   "source": [
    "3. Buat fungsi **beriUcapan** dengan sebuah parameter bertipe String.\n",
    "![Gambar 3](images/1.3.png)"
   ]
  },
  {
   "cell_type": "markdown",
   "metadata": {},
   "source": [
    "4. Buatlah variabel **salam** bertipe String kemudian eksekusi atau panggil fungsi **beriUcapan** dengan mengisi parameternya dengan variable **salam** yang sudah dibuat.\n",
    "![Gambar 3](images/1.4.png)"
   ]
  },
  {
   "cell_type": "code",
   "execution_count": 3,
   "metadata": {},
   "outputs": [
    {
     "name": "stdout",
     "output_type": "stream",
     "text": [
      "Halo ! Selamat Pagi\n",
      "Selamat datang di pemrograman Java\n"
     ]
    }
   ],
   "source": [
    "// Tuliskan kode program Percobaan 1 Langkah 1, 2, 3 & 4\n",
    "static void beriSalam(){\n",
    "    System.out.println(\"Halo ! Selamat Pagi\");\n",
    "}\n",
    "static void beriUcapan(String ucapan){\n",
    "    System.out.println(ucapan);\n",
    "}\n",
    "\n",
    "beriSalam();\n",
    "String salam = (\"Selamat datang di pemrograman Java\");\n",
    "beriUcapan(salam);\n"
   ]
  },
  {
   "cell_type": "markdown",
   "metadata": {},
   "source": [
    "#### Pertanyaan\n",
    "1. Jelaskan perbedaan fungsi **beriSalam** dan **beriUcapan** pada praktikum 1!\n",
    "Jawab : fungsi dari \" Beri Salam \" yaitu tanpa parameter sedangkan fungsi dari \" Beri Ucapan \" yaitu menggunakan parameter dengan menggunakan tipe data berupa String."
   ]
  },
  {
   "cell_type": "markdown",
   "metadata": {},
   "source": [
    "2. Jelaskan cara pemanggilan sebuah fungsi void yang berparameter dan tanpa parameter!\n",
    "Jawab : 1 . Fungsi dengan Parameter adalah variabel yang menampung nilai untuk diproses di dalam fungsi. Parameter berperan sebagai input untuk fungsi.\n",
    "\n",
    "Struktur dasarnya seperti ini: static TipeData namaFungsi(TipeData namaParameter, TipeData namaParameterLain){\n",
    "    // kode fungsi\n",
    "}\n",
    "\n",
    "Penjelasan:\n",
    "\n",
    "Parameter ditulis di antara tanda kurung (...);\n",
    "\n",
    "Parameter harus diberikan tipe data;\n",
    "\n",
    "Bila terdapat lebih dari satu parameter, maka dipisah dengan tanda koma.\n",
    "\n",
    "2. Fungsi tanpa Parameter yaitu tidak perlu di deklarasi terlebih dahulu."
   ]
  },
  {
   "cell_type": "markdown",
   "metadata": {},
   "source": [
    "### Percobaan 2: Fungsi dengan return value (Bukan void)\n",
    "Pada Percobaan 2, kode program yang dibuat digunakan untuk menghitung luas persegi dengan membuat fungsi **luasPersegi** yang menggunakan parameter.\n",
    "1. Buat fungsi **luasPersegi**  untuk menghitung luas persegi yang mengembalikan nilai luas (int) dan parameter masukan sisi (int).\n",
    "![Gambar 4](images/2.1.png)"
   ]
  },
  {
   "cell_type": "markdown",
   "metadata": {},
   "source": [
    "2.\tEksekusi atau panggil fungsi luasPersegi dengan cara membuat variabel baru yaitu **luasan**, kemudian isi variabel tersebut dengan memanggil fungsi luasPersegi dan mengisi parameter sisi. Selanjutnya cetak variabel luasan untuk menampilkan luas persegi panjang\n",
    "![Gambar 5](images/2.2.png)"
   ]
  },
  {
   "cell_type": "code",
   "execution_count": 4,
   "metadata": {},
   "outputs": [
    {
     "name": "stdout",
     "output_type": "stream",
     "text": [
      "Luas persegi dengan sisi 5 = 25\n"
     ]
    }
   ],
   "source": [
    "// Tuliskan kode program Percobaan 2 Langkah 1 & 2\n",
    "static int luasPersegi(int sisi){\n",
    "    int luas = sisi * sisi;\n",
    "    return luas;\n",
    "}\n",
    "int luasan = luasPersegi(5);\n",
    "System.out.println(\"Luas persegi dengan sisi 5 = \" + luasan);"
   ]
  },
  {
   "cell_type": "markdown",
   "metadata": {},
   "source": [
    "#### Pertanyaan\n",
    "1. jelaskan mengapa ketika memanggil fungsi **luasPersegi** harus membuat variabel baru yaitu luasan?\n",
    "Jawab : Variabel ini diperlukan ketika menghitung nilai sisi*sisi "
   ]
  },
  {
   "cell_type": "markdown",
   "metadata": {},
   "source": [
    "2. Jelaskan kegunaan **return luas** pada percobaan 2 diatas!\n",
    "Jawab : yaitu untuk mengembalikan nilai fungsi agar dapat di proses ke langkah atau tahap fungsi selanjutnya."
   ]
  },
  {
   "cell_type": "markdown",
   "metadata": {},
   "source": [
    "3. Modifikasilah program di percobaan 2, dengan membuat panjang **sisi** sebagai inputan!"
   ]
  },
  {
   "cell_type": "code",
   "execution_count": 5,
   "metadata": {},
   "outputs": [
    {
     "name": "stdout",
     "output_type": "stream",
     "text": [
      "Masukkan sisi persegi : 22\n",
      "Luas persegi dengan sisi 22 adalah : 484\n"
     ]
    }
   ],
   "source": [
    "// Tuliskan jawaban nomor 2\n",
    "import java.util.Scanner;\n",
    "Scanner sc = new Scanner(System.in);\n",
    "int s;\n",
    "static int luasPersegi(int sisi){\n",
    "    int luas = sisi * sisi;\n",
    "    return luas;\n",
    "}\n",
    "System.out.print(\"Masukkan sisi persegi : \");\n",
    "s = sc.nextInt();\n",
    "int luasan = luasPersegi(s);\n",
    "System.out.println(\"Luas persegi dengan sisi \" + s + \" adalah : \" + luasan);"
   ]
  },
  {
   "cell_type": "markdown",
   "metadata": {},
   "source": [
    "### Percobaan 3: Fungsi dapat meng-CALL Fungsi Lain\n",
    "Pada Percobaan 3, kode program yang dibuat digunakan untuk mengimplementasikan bahwa fungsi dapat meng-CALL fungsi yang lain. Dimana dalam percobaan ini terdapat fungsi **Kali dan Kurang**. \n",
    "1. Buatlah fungsi **Kali** yang mengembalikan nilai H (int) dan parameter masukan C dan D (int).\n",
    "![Gambar 9](images/3.1.png)"
   ]
  },
  {
   "cell_type": "markdown",
   "metadata": {},
   "source": [
    "2.\tBuatlah fungsi **Kurang** yang mengembalikan nilai X (int) dan parameter masukan A dan B (int) dan memanggil fungsi Kali.\n",
    "![Gambar 10](images/3.2.png)"
   ]
  },
  {
   "cell_type": "markdown",
   "metadata": {},
   "source": [
    "3. Lakukan import class Scanner sebagai inputan di langkah selajutnya."
   ]
  },
  {
   "cell_type": "markdown",
   "metadata": {},
   "source": [
    "4. Eksekusi atau panggil fungsi **Kurang** .\n",
    "![Gambar 11](images/3.4.png)"
   ]
  },
  {
   "cell_type": "code",
   "execution_count": 15,
   "metadata": {},
   "outputs": [
    {
     "name": "stdout",
     "output_type": "stream",
     "text": [
      "Masukkan Nilai 1\t : 0\n",
      "Masukkan Nilai 2\t : 0\n",
      "Hasil akhir adalah\t : 17\n"
     ]
    }
   ],
   "source": [
    "// Tuliskan kode program Percobaan 3 Langkah 1, 2, 3 & 4\n",
    "static int Kali(int C, int D){\n",
    "    int H;\n",
    "    H = (C + 10) % (D + 19);\n",
    "    return H;\n",
    "}\n",
    "static int Kurang(int A, int B){\n",
    "int X;\n",
    "    A = A + 7;\n",
    "    B = B + 4;\n",
    "    X = Kali(A, B);\n",
    "    return X;\n",
    "}\n",
    "    import java.util.Scanner;\n",
    "    Scanner input = new Scanner (System.in);\n",
    "    int nilai1, nilai2;\n",
    "    System.out.print(\"Masukkan Nilai 1\\t : \");\n",
    "    nilai1 = input.nextInt();\n",
    "    System.out.print(\"Masukkan Nilai 2\\t : \");\n",
    "    nilai2 = input.nextInt();\n",
    "    int hasil = Kurang(nilai1, nilai2);\n",
    "    System.out.println(\"Hasil akhir adalah\\t : \" + hasil);"
   ]
  },
  {
   "cell_type": "markdown",
   "metadata": {},
   "source": [
    "#### Pertanyaan\n",
    "1. Modifikasilah percobaan diatas dimana di fungsi **Kali** dapat memanggil fungsi **Kurang** kemudian eksekusi atau panggil fungsi Kali"
   ]
  },
  {
   "cell_type": "code",
   "execution_count": 18,
   "metadata": {},
   "outputs": [
    {
     "name": "stdout",
     "output_type": "stream",
     "text": [
      "Masukkan Nilai 1\t : 22\n",
      "Masukkan Nilai 2\t : 2\n",
      "Hasil akhir adalah\t : 14\n"
     ]
    }
   ],
   "source": [
    "// Tuliskan jawaban nomor 1\n",
    "static int Kali(int C, int D){\n",
    "    int H;\n",
    "    C = C + 10;\n",
    "    D = D + 19;\n",
    "    H = Kurang (C,D);\n",
    "    return H;\n",
    "}\n",
    "static int Kurang(int A, int B){\n",
    "    int X;\n",
    "    X = (A+7) % (B+4);\n",
    "    return X;\n",
    "}\n",
    "    import java.util.Scanner;\n",
    "    Scanner input = new Scanner (System.in);\n",
    "    int nilai1, nilai2;\n",
    "    System.out.print(\"Masukkan Nilai 1\\t : \");\n",
    "    nilai1 = input.nextInt();\n",
    "    System.out.print(\"Masukkan Nilai 2\\t : \");\n",
    "    nilai2 = input.nextInt();\n",
    "    int hasil = Kali(nilai1, nilai2);\n",
    "    System.out.println(\"Hasil akhir adalah\\t : \" + hasil);"
   ]
  },
  {
   "cell_type": "markdown",
   "metadata": {},
   "source": [
    "2. Jelaskan alur jalannya program di percobaan 3 mulai dari input sampai keluar output!\n",
    "\n",
    "Berikut alur jalannya program diatas langkah awal yaitu input dua nilai yaitu nilai1 dan nilai2, lalu memasukan nilai1 dan nilai2 ke dalam parameter Kurang,ke dalam fungsi Kurang , lalu nilai1 menjadi int A, nilai2 menjadi int B, selanjutnya mengubah A menjadi A = A+7 da B menjadi B = B + 4, masukan variabel A dan B ke dalam parameter fungsi Kali , ( didalam fungsi Kali A menjadi int C, B menjadi int D ,lalu int H = (C+10) % (D+19) \n",
    "\n",
    ") dan fungsi Kali mengembalikan int H ,hasil return dari Kali di ditampung ke variabel X yaitu di dalam fungsi Kurang , lalu fungsi Kurang mengembalikan variabel X , hasil dari return fungsi Kurang ditampung ke variabel hasil, lalu tahap akhir yaitu menampilkan hasil akhir dari program yang telah di jalankan . \n"
   ]
  },
  {
   "cell_type": "markdown",
   "metadata": {},
   "source": [
    "### Percobaan 4: Mengubah Program Tidak Menggunakan Fungsi dan Menggunakan Fungsi\n",
    "Pada Percobaan 4, kode program yang dibuat digunakan untuk menghitung luas persegi panjang dan volume balok tanpa menggunakan fungsi dan dengan menggunakan fungsi.\n",
    "1. Import dan deklarasikan Scanner dengan nama **input**\n",
    "![Gambar 9](images/4.1.png)"
   ]
  },
  {
   "cell_type": "markdown",
   "metadata": {},
   "source": [
    "2. Buatlah inputan panjang, lebar, dan tinggi \n",
    "![Gambar 10](images/4.2.png)"
   ]
  },
  {
   "cell_type": "markdown",
   "metadata": {},
   "source": [
    "3. Hitung luas persegi panjang dan volume balok\n",
    "![Gambar 10](images/4.3.png)"
   ]
  },
  {
   "cell_type": "code",
   "execution_count": 7,
   "metadata": {},
   "outputs": [
    {
     "name": "stdout",
     "output_type": "stream",
     "text": [
      "Masukkan Panjang\n",
      "12\n",
      "Masukkan lebar\n",
      "12\n",
      "Masukkan tinggi\n",
      "12\n",
      "Luas Persegi Panjang Adalah 144\n",
      "Volume Balok Adalah 1728\n"
     ]
    }
   ],
   "source": [
    "// Tuliskan kode program Percobaan 4 Langkah 1, 2, & 3\n",
    "import java.util.Scanner;\n",
    "Scanner input = new Scanner(System.in);\n",
    "int p,l,t,L,vol;\n",
    "System.out.println(\"Masukkan Panjang\");\n",
    "p=input.nextInt();\n",
    "System.out.println(\"Masukkan lebar\");\n",
    "l=input.nextInt();\n",
    "System.out.println(\"Masukkan tinggi\");\n",
    "t=input.nextInt();\n",
    "L = p*l;\n",
    "System.out.println(\"Luas Persegi Panjang Adalah \" + L);\n",
    "vol = p*l*t;\n",
    "System.out.println(\"Volume Balok Adalah \" + vol);"
   ]
  },
  {
   "cell_type": "markdown",
   "metadata": {},
   "source": [
    "4. Program menghitung luas persegi dan volume balok diatas jika dibuatkan fungsi maka terdapat 3 fungsi yaitu hitungLuas, hitungVolume dan fungsi main, seperti dibawah ini:\n",
    "\n",
    "Fungsi hitungLuas\n",
    "\n",
    "![Gambar 10](images/4.4Luas.png)\n",
    "\n",
    "Fungsi hitungVolume\n",
    "![Gambar 10](images/4.4Volume.png)\n",
    "\n"
   ]
  },
  {
   "cell_type": "markdown",
   "metadata": {},
   "source": [
    "5. Eksekusi/panggil fungsi **hitungLuas** dan **hitungVolume**\n",
    "\n",
    "![Gambar 10](images/4.5.png)"
   ]
  },
  {
   "cell_type": "code",
   "execution_count": 8,
   "metadata": {},
   "outputs": [
    {
     "name": "stdout",
     "output_type": "stream",
     "text": [
      "Masukkan Panjang\n",
      "14\n",
      "Masukkan lebar\n",
      "14\n",
      "Masukkan tinggi\n",
      "14\n",
      "Luas Persegi Panjang Adalah : 196\n",
      "Volume Balok Adalah 2744\n"
     ]
    }
   ],
   "source": [
    "// Tuliskan kode program Percobaan 4 Langkah 1, 2, & 3\n",
    "static int hitungLuas (int pjg, int lb){\n",
    " int Luas = pjg*lb;\n",
    " return Luas;\n",
    "}\n",
    "static int hitungVolume(int tinggi, int a, int b){\n",
    " int volume = hitungLuas(a,b)*tinggi;\n",
    " return volume;\n",
    "}\n",
    "Scanner input = new Scanner(System.in);\n",
    "int p,l,t,L,vol;\n",
    "System.out.println(\"Masukkan Panjang\");\n",
    "p=input.nextInt();\n",
    "System.out.println(\"Masukkan lebar\");\n",
    "l=input.nextInt();\n",
    "System.out.println(\"Masukkan tinggi\");\n",
    "t=input.nextInt();\n",
    "L = hitungLuas(p,l);\n",
    "System.out.println(\"Luas Persegi Panjang Adalah : \" + L);\n",
    "vol = hitungVolume(t,p,l);\n",
    "System.out.println(\"Volume Balok Adalah \" + vol);"
   ]
  },
  {
   "cell_type": "markdown",
   "metadata": {},
   "source": [
    "#### Pertanyaan\n",
    "1. Jelaskan kegunaan parameter yang terdapat didalam fungsi hitungLuas dan hitungVolume!\n",
    "Jawab : Fungsi LUAS bertipe real dengan parameter input p dan l. Fungsi ini bertugas menghitung nilai Luas. Kemudian fungsi mengembalikan nilai hasil perhitungan Luas ke dalam program utama ketika dipanggil dan disimpan dalam variabel c.\n",
    "kegunaan parameter yang terdapat di dalam hitungVolume yaitu untuk pemanggilan fungsi luas_persegi()"
   ]
  },
  {
   "cell_type": "markdown",
   "metadata": {},
   "source": [
    "2. Setelah melakukan percobaan 4, menurut anda manakah program yg lebih efisien apakah menggunakan fungsi atau tanpa fungsi? \n",
    "Jelaskan! dilihat dari percobaan di atas , menurut saya program yang lebih efisien yaitu menggunakan fungsi . kenapa begitu ? karena dengan kita menggunakan fungsi kita dapat mudah menjalankan kode kode yang akan kita jalankan di program tersebut. \n"
   ]
  },
  {
   "cell_type": "markdown",
   "metadata": {},
   "source": [
    "### Percobaan 5: Fungsi Menggunakan Array dan Variabel Global\n",
    "Pada Percobaan 5, kode program yang dibuat digunakan untuk menghitung total nilai yang ada didalam array dengan membuat 3 fungsi yaitu isiarray, hitTol, dan tampilArray.\n",
    "1. Buatlah **variable global total dan i** bertipe int\n",
    "![Gambar 9](images/5.1pertama.png)"
   ]
  },
  {
   "cell_type": "markdown",
   "metadata": {},
   "source": [
    "2. Buatlah fungsi **isiarray** bertipe int dengan parameter angka bertipe int \n",
    "\n",
    "![Gambar 10](images/5.1.png)"
   ]
  },
  {
   "cell_type": "markdown",
   "metadata": {},
   "source": [
    "3. Buatlah fungsi **tampilArray** bertipe **void** dengan parameter data array **arr** bertipe int\n",
    "\n",
    "![Gambar 10](images/5.2.png)"
   ]
  },
  {
   "cell_type": "markdown",
   "metadata": {},
   "source": [
    "4. Buatlah fungsi **hitTot** bertipe int dengan parameter data array **arr** bertipe int\n",
    "\n",
    "![Gambar 10](images/5.3.png)"
   ]
  },
  {
   "cell_type": "markdown",
   "metadata": {},
   "source": [
    "5. Import dan deklarasikan Scanner dengan nama **input**\n",
    "\n",
    "![Gambar 10](images/4.1.png)"
   ]
  },
  {
   "cell_type": "markdown",
   "metadata": {},
   "source": [
    "6. Eksekusi atau panggil ketiga fungsi yaitu **isiarray, tampilArray, dan hitTot**, kemudian jalankan program!\n",
    "\n",
    "![Gambar 10](images/5.6.png)"
   ]
  },
  {
   "cell_type": "code",
   "execution_count": 9,
   "metadata": {},
   "outputs": [
    {
     "name": "stdout",
     "output_type": "stream",
     "text": [
      "Masukkan jumlah data yang ingin anda inputkan: \n",
      "22\n",
      "Masukkan data ke- 0\n",
      "12\n",
      "Masukkan data ke- 1\n",
      "13\n",
      "Masukkan data ke- 2\n",
      "14\n",
      "Masukkan data ke- 3\n",
      "15\n",
      "Masukkan data ke- 4\n",
      "16\n",
      "Masukkan data ke- 5\n",
      "17\n",
      "Masukkan data ke- 6\n",
      "18\n",
      "Masukkan data ke- 7\n",
      "19\n",
      "Masukkan data ke- 8\n",
      "20\n",
      "Masukkan data ke- 9\n",
      "21\n",
      "Masukkan data ke- 10\n",
      "22\n",
      "Masukkan data ke- 11\n",
      "23\n",
      "Masukkan data ke- 12\n",
      "24\n",
      "Masukkan data ke- 13\n",
      "25\n",
      "Masukkan data ke- 14\n",
      "25\n",
      "Masukkan data ke- 15\n",
      "27\n",
      "Masukkan data ke- 16\n",
      "28\n",
      "Masukkan data ke- 17\n",
      "29\n",
      "Masukkan data ke- 18\n",
      "30\n",
      "Masukkan data ke- 19\n",
      "20\n",
      "Masukkan data ke- 20\n",
      "1\n",
      "Masukkan data ke- 21\n",
      "2\n",
      "Nilai yang anda inputkan ke 0\n",
      "12\n",
      "Nilai yang anda inputkan ke 1\n",
      "13\n",
      "Nilai yang anda inputkan ke 2\n",
      "14\n",
      "Nilai yang anda inputkan ke 3\n",
      "15\n",
      "Nilai yang anda inputkan ke 4\n",
      "16\n",
      "Nilai yang anda inputkan ke 5\n",
      "17\n",
      "Nilai yang anda inputkan ke 6\n",
      "18\n",
      "Nilai yang anda inputkan ke 7\n",
      "19\n",
      "Nilai yang anda inputkan ke 8\n",
      "20\n",
      "Nilai yang anda inputkan ke 9\n",
      "21\n",
      "Nilai yang anda inputkan ke 10\n",
      "22\n",
      "Nilai yang anda inputkan ke 11\n",
      "23\n",
      "Nilai yang anda inputkan ke 12\n",
      "24\n",
      "Nilai yang anda inputkan ke 13\n",
      "25\n",
      "Nilai yang anda inputkan ke 14\n",
      "25\n",
      "Nilai yang anda inputkan ke 15\n",
      "27\n",
      "Nilai yang anda inputkan ke 16\n",
      "28\n",
      "Nilai yang anda inputkan ke 17\n",
      "29\n",
      "Nilai yang anda inputkan ke 18\n",
      "30\n",
      "Nilai yang anda inputkan ke 19\n",
      "20\n",
      "Nilai yang anda inputkan ke 20\n",
      "1\n",
      "Nilai yang anda inputkan ke 21\n",
      "2\n",
      "Total nilai = 421\n"
     ]
    }
   ],
   "source": [
    "// Tuliskan kode program Percobaan 4 Langkah 1 s/d 6\n",
    "static int total=0,i;\n",
    "static int [] isiarray (int angka){\n",
    " Scanner input = new Scanner(System.in);\n",
    " int array[]=new int [angka];\n",
    " for (i=0; i<array.length; i++){\n",
    " System.out.println(\"Masukkan data ke- \" +i);\n",
    " array[i]=input.nextInt();\n",
    " }\n",
    " return array;\n",
    "}\n",
    "static void tampilArray(int [] arr){\n",
    " for (i=0; i<arr.length; i++){\n",
    " System.out.println(\"Nilai yang anda inputkan ke \" +i);\n",
    " System.out.println(arr[i]);\n",
    " }\n",
    "}\n",
    "static int hitTot(int []arr){\n",
    " for (i=0; i<arr.length; i++){\n",
    " total+=arr[i];\n",
    " }\n",
    " return total;\n",
    "}\n",
    "import java.util.Scanner;\n",
    "Scanner input = new Scanner(System.in);\n",
    "System.out.println(\"Masukkan jumlah data yang ingin anda inputkan: \");\n",
    "int jum=input.nextInt();\n",
    "int []dataArray=isiarray(jum);\n",
    "tampilArray(dataArray);\n",
    "total=hitTot(dataArray);\n",
    "System.out.println(\"Total nilai = \" + total);"
   ]
  },
  {
   "cell_type": "markdown",
   "metadata": {},
   "source": [
    "#### Pertanyaan\n",
    "1. Jelaskan mengapa fungsi tampil array dibuat bertipe void, sedangkan isiarray dan hitTot bertipe int!\n",
    "\n",
    "fungsi tampil array dibuat bertipe void tidak harus adanya pengembalian data sedangkan isiarray dan hitTot bertipe int harus adanya pengembalian data . "
   ]
  },
  {
   "cell_type": "markdown",
   "metadata": {},
   "source": [
    "2. Menurut pendapat anda apakah fugsi isiarray dan hitTot dapat diganti dengan tipe void? Jelaskan dan buktikan dengan program!\n",
    "ketika kita menggunakan void program akan error karena fungsi isi array dan hitTot memerlukan pengembalian nilai."
   ]
  },
  {
   "cell_type": "code",
   "execution_count": 1,
   "metadata": {},
   "outputs": [
    {
     "ename": "CompilationException",
     "evalue": "",
     "output_type": "error",
     "traceback": [
      "\u001b[1m\u001b[30m|   \u001b[1m\u001b[30mstatic \u001b[0m\u001b[1m\u001b[30m\u001b[41mvoid\u001b[0m\u001b[1m\u001b[30m [] isiarray(int angka){\u001b[0m",
      "\u001b[1m\u001b[31millegal start of expression\u001b[0m",
      "",
      "\u001b[1m\u001b[30m|   \u001b[1m\u001b[30mstatic void\u001b[0m\u001b[1m\u001b[30m\u001b[41m\u001b[0m\u001b[1m\u001b[30m [] isiarray(int angka){\u001b[0m",
      "\u001b[1m\u001b[31m';' expected\u001b[0m",
      "",
      "\u001b[1m\u001b[30m|   \u001b[1m\u001b[30mstatic void [] isiarray(int \u001b[0m\u001b[1m\u001b[30m\u001b[41m\u001b[0m\u001b[1m\u001b[30mangka){\u001b[0m",
      "\u001b[1m\u001b[31m'.class' expected\u001b[0m",
      "",
      "\u001b[1m\u001b[30m|   \u001b[1m\u001b[30mstatic void [] isiarray(int angka\u001b[0m\u001b[1m\u001b[30m\u001b[41m\u001b[0m\u001b[1m\u001b[30m){\u001b[0m",
      "\u001b[1m\u001b[31m';' expected\u001b[0m",
      "",
      "\u001b[1m\u001b[30m|   \u001b[1m\u001b[30mstatic void [] isiarray(\u001b[0m\u001b[1m\u001b[30m\u001b[41mint \u001b[0m\u001b[1m\u001b[30mangka){\u001b[0m",
      "\u001b[1m\u001b[31munexpected type\u001b[0m",
      "\u001b[1m\u001b[31m  required: value\u001b[0m",
      "\u001b[1m\u001b[31m  found:    class\u001b[0m",
      "",
      "\u001b[1m\u001b[30m|   \u001b[1m\u001b[30m    int array[]= new int[\u001b[0m\u001b[1m\u001b[30m\u001b[41mangka\u001b[0m\u001b[1m\u001b[30m];\u001b[0m",
      "\u001b[1m\u001b[31mcannot find symbol\u001b[0m",
      "\u001b[1m\u001b[31m  symbol:   variable angka\u001b[0m",
      "",
      "\u001b[1m\u001b[30m|   \u001b[1m\u001b[30m}\u001b[0m\u001b[1m\u001b[30m\u001b[41m\u001b[0m\u001b[1m\u001b[30m\u001b[0m",
      "\u001b[1m\u001b[31munreachable statement\u001b[0m",
      ""
     ]
    }
   ],
   "source": [
    "// Tuliskan jawaban nomor 2\n",
    "import java.util.Scanner;\n",
    "Scanner input = new Scanner(System.in);\n",
    "static int total=0,i;\n",
    "static void [] isiarray(int angka){\n",
    "    \n",
    "    int array[]= new int[angka];\n",
    "    for(i=0;i<array.length;i++){\n",
    "        System.out.println(\"Masukan data ke -\"+i);\n",
    "        array[i] = input.nextInt();\n",
    "    }\n",
    "    return array;\n",
    "}\n",
    "static void tampilArray(int[] arr){\n",
    "    for(int i =0 ;i<arr.length;i++){\n",
    "        System.out.println(\"Nilai yang anda inputkan ke \"+i);\n",
    "        System.out.println(arr[i]);\n",
    "    }\n",
    "}\n",
    "static void hitTot(int []arr){\n",
    "    for(int i =0 ;i<arr.length;i++){\n",
    "        total+=arr[i];\n",
    "    }\n",
    "    return total;\n",
    "}\n",
    "System.out.println(\"Masukan jumlah data yang anda inputkan: \");\n",
    "int jum = input.nextInt();\n",
    "int[] dataArray = isiarray(jum);\n",
    "tampilArray(dataArray);\n",
    "total = hitTot(dataArray);\n",
    "System.out.println(\"Total nilai = \" + total);"
   ]
  },
  {
   "cell_type": "markdown",
   "metadata": {},
   "source": [
    "## Tugas\n",
    "##Ega Fadhilla Febryana"
   ]
  },
  {
   "cell_type": "markdown",
   "metadata": {},
   "source": [
    "1. Buatlah sebuah static method yang bernama Max3(int bil1, int bil2, int bil3) yang menerima 3 buah parameter bilangan integer dan mengembalikan sebuah bilangan integer yang merupakan nilai maksimum diantara ketiga bilangan tersebut. "
   ]
  },
  {
   "cell_type": "code",
   "execution_count": 4,
   "metadata": {},
   "outputs": [
    {
     "name": "stdout",
     "output_type": "stream",
     "text": [
      "13\n"
     ]
    }
   ],
   "source": [
    "// Tuliskan jawaban nomor 1\n",
    "static int Max3(int bil1, int bil2 , int bil3){\n",
    "    int max = 0;\n",
    "    if (max < bil1){\n",
    "        max = bil1;\n",
    "    }if (max < bil2){\n",
    "        max = bil2;\n",
    "    }if (max < bil3){\n",
    "        max = bil3;\n",
    "    }\n",
    "    return max;\n",
    "}\n",
    "System.out.println(Max3(11,12,13));"
   ]
  },
  {
   "cell_type": "markdown",
   "metadata": {},
   "source": [
    "2. Disebuah restoran terdapat 3 menu yang dijual yaitu nasi goreng, soto, dan sate. Harga nasi goreng Rp. 20.000, soto Rp. 15.000, dan sate Rp. 25.000. Restoran tersebut buka dari hari senin sampai jumat. Berikut ini merupakan tabel pejualan perhari untuk masing-masing menu di restoran tersebut dari hari senin sampai jumat\n",
    "![Gambar 13](images/soal3.png)\n",
    "\n",
    "Buatlah Fungsi sebagai berikut:\n",
    " * Fungsi menampilkan menu favorit di hari selasa dan jumat (menu favorit diasumsikan adalah menu yang paling banyak terjual di hari tersebut)\n",
    " * Fungsi untuk menghitung pemasukan restoran tersebut mulai hari senin sampai jumat.\n",
    " * Fungsi untuk menghitung berapa porsi yang terjual untuk masing-masing menu yaitu nasi goreng, soto, dan sate mulai senin sampai jumat."
   ]
  },
  {
   "cell_type": "code",
   "execution_count": 5,
   "metadata": {},
   "outputs": [
    {
     "name": "stdout",
     "output_type": "stream",
     "text": [
      "Menu Favorit di hari selasa adalah Soto dan hari jumat adalah Nasi Goreng\n",
      "Total Pemasukan dari senin sampai jumat adalah Rp 8625000\n",
      "Total Nasi Goreng yang terjual adalah 164 porsi, Soto yang terjual adalah 143 porsi, Sate yang terjual adalah 128 porsi\n"
     ]
    }
   ],
   "source": [
    "// Tuliskan jawaban nomor 2\n",
    "int [][] data = {\n",
    "    {20,15,35,24,70},\n",
    "    {30,40,10,28,35},\n",
    "    {5,10,50,48,15}\n",
    "};\n",
    "static String[] tampilMenuFavSelasaJumat(){\n",
    "    int max1 = 0;\n",
    "    int max2 = 0;\n",
    "    String[] menu = {\"Nasi Goreng\",\"Soto\",\"Sate\"};\n",
    "    String[] menuFav = new String[2];\n",
    "    for(int i = 0;i < data.length;i++){\n",
    "        if(max1 < data[i][1]){\n",
    "            max1 = data[i][1];\n",
    "            menuFav[0] = menu[i];\n",
    "        }\n",
    "        if(max2 < data[i][4]){\n",
    "            max2 = data[i][4];\n",
    "            menuFav[1] = menu[i];\n",
    "        }\n",
    "    }\n",
    "    return menuFav;\n",
    "}\n",
    "\n",
    "static int pemasukan(){\n",
    "    int total , nasiGoreng = 0,soto = 0,sate = 0;\n",
    "    for(int i = 0 ; i < data[0].length ; i++){\n",
    "        nasiGoreng += data[0][i];\n",
    "        soto += data[1][i];\n",
    "        sate += data[2][i];\n",
    "    }\n",
    "    return total = (nasiGoreng * 20000) + (soto * 15000) + (sate * 25000);\n",
    "}\n",
    "\n",
    "static int[] porsiTerjual(){\n",
    "    int nasiGoreng = 0,soto = 0,sate = 0;\n",
    "    for(int i = 0 ; i < data[0].length ; i++){\n",
    "        nasiGoreng += data[0][i];\n",
    "        soto += data[1][i];\n",
    "        sate += data[2][i];\n",
    "    }\n",
    "    int[] total = new int[3];\n",
    "    total[0] = nasiGoreng;\n",
    "    total[1] = soto;\n",
    "    total[2] = sate;\n",
    "    return total;\n",
    "}\n",
    "String[] favorit = tampilMenuFavSelasaJumat();\n",
    "int totalPemasukan = pemasukan();\n",
    "int[] porsi = porsiTerjual();\n",
    "System.out.println(\"Menu Favorit di hari selasa adalah \" + favorit[0] + \" dan hari jumat adalah \" + favorit[1]);\n",
    "System.out.println(\"Total Pemasukan dari senin sampai jumat adalah Rp \" + totalPemasukan);\n",
    "System.out.println(\"Total Nasi Goreng yang terjual adalah \" + porsi[0] + \" porsi, Soto yang terjual adalah \" + porsi[1] + \" porsi, Sate yang terjual adalah \"+porsi[2]+ \" porsi\");"
   ]
  },
  {
   "cell_type": "code",
   "execution_count": null,
   "metadata": {},
   "outputs": [],
   "source": []
  }
 ],
 "metadata": {
  "kernelspec": {
   "display_name": "Java",
   "language": "java",
   "name": "java"
  },
  "language_info": {
   "codemirror_mode": "java",
   "file_extension": ".jshell",
   "mimetype": "text/x-java-source",
   "name": "Java",
   "pygments_lexer": "java",
   "version": "11.0.10+8-LTS-162"
  }
 },
 "nbformat": 4,
 "nbformat_minor": 4
}
