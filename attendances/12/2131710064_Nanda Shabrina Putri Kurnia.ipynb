{
 "cells": [
  {
   "cell_type": "markdown",
   "id": "31ff120d",
   "metadata": {},
   "source": [
    "### Nanda Shabrina Putri Kurnia / 15 / MI-1E / 2131710064"
   ]
  },
  {
   "cell_type": "code",
   "execution_count": 1,
   "id": "e2949dd4",
   "metadata": {},
   "outputs": [
    {
     "name": "stdout",
     "output_type": "stream",
     "text": [
      "Masukkan nilai N: 5\n",
      "1\n",
      "12\n",
      "123\n",
      "1234\n",
      "12345\n"
     ]
    }
   ],
   "source": [
    "//nomor 1//\n",
    "import java.util.Scanner;\n",
    "Scanner input = new Scanner(System.in);\n",
    "int n;\n",
    "System.out.print(\"Masukkan nilai N: \");\n",
    "n = input.nextInt();\n",
    "for(int i=1 ; i<=n ; i++){\n",
    "    for(int j=1 ; j<=i ; j++){\n",
    "        System.out.print(j);\n",
    "    }\n",
    "    System.out.println();\n",
    "}"
   ]
  },
  {
   "cell_type": "code",
   "execution_count": 2,
   "id": "fe9a3575",
   "metadata": {},
   "outputs": [
    {
     "name": "stdout",
     "output_type": "stream",
     "text": [
      "Masukkan nilai N: 5\n",
      "1\n",
      "22\n",
      "333\n",
      "4444\n",
      "55555\n"
     ]
    }
   ],
   "source": [
    "//nomor 2//\n",
    "import java.util.Scanner;\n",
    "Scanner input = new Scanner(System.in);\n",
    "int n;\n",
    "System.out.print(\"Masukkan nilai N: \");\n",
    "n = input.nextInt();\n",
    "for(int i=1 ; i<=n ; i++){\n",
    "    for(int j=1 ; j<=i ; j++){\n",
    "        System.out.print(i);\n",
    "    }\n",
    "    System.out.println();\n",
    "}"
   ]
  },
  {
   "cell_type": "code",
   "execution_count": 38,
   "id": "1c22c6df",
   "metadata": {},
   "outputs": [
    {
     "name": "stdout",
     "output_type": "stream",
     "text": [
      "Masukkan abjad 00: N\n",
      "Masukkan abjad 01: A\n",
      "Masukkan abjad 02: N\n",
      "Masukkan abjad 03: D\n",
      "Masukkan abjad 04: A\n",
      "Masukkan abjad 10: S\n",
      "Masukkan abjad 11: H\n",
      "Masukkan abjad 12: A\n",
      "Masukkan abjad 13: B\n",
      "Masukkan abjad 14: R\n",
      "Masukkan abjad 20: I\n",
      "Masukkan abjad 21: N\n",
      "Masukkan abjad 22: A\n",
      "Masukkan abjad 23: P\n",
      "Masukkan abjad 24: U\n",
      "Masukkan abjad 30: T\n",
      "Masukkan abjad 31: R\n",
      "Masukkan abjad 32: I\n",
      "Masukkan abjad 33: K\n",
      "Masukkan abjad 34: U\n",
      "\n",
      "\n",
      "N A N D A \n",
      "\n",
      "S H A B R \n",
      "\n",
      "I N A P U \n",
      "\n",
      "T R I K U \n",
      "\n",
      "\n",
      "a. N adalah huruf terbesar pada baris 1 berada di kolom 1 dan 3\n",
      "b. S adalah huruf terbesar pada baris 2 berada di kolom 1\n",
      "c. U adalah huruf terbesar pada baris 3 berada di kolom 5\n",
      "d. U adalah huruf terbesar pada baris 4 berada di kolom 5\n"
     ]
    }
   ],
   "source": [
    "//nomor 3//\n",
    "import java.util.Scanner;\n",
    "Scanner input = new Scanner(System.in);\n",
    "char [][]nama = new char[4][5];\n",
    "char max0='A', max1='A' , max2='A' , max3='A', min='M';\n",
    "for(int i=0 ; i<nama.length ; i++){\n",
    "    for(int j=0 ; j<nama[0].length ; j++){\n",
    "        System.out.print(\"Masukkan abjad \"+i+j+\": \");\n",
    "        nama[i][j] = input.nextLine().charAt(0);\n",
    "        }\n",
    "        }\n",
    "System.out.println(\"\\n\");\n",
    "for(int i=0 ; i<nama.length ; i++){\n",
    "    for(int j=0 ; j<nama[0].length ; j++){\n",
    "        min = 'M';\n",
    "        if(nama[0][j]>min){\n",
    "        max0 = nama[0][j];\n",
    "        }\n",
    "        min = 'R';\n",
    "        if(nama[1][j]>min){\n",
    "        max1 = nama[1][j];\n",
    "        }\n",
    "        min = 'T';\n",
    "        if(nama[2][j]>min){\n",
    "        max2 = nama[2][j];\n",
    "        }\n",
    "        min = 'T';\n",
    "        if(nama[3][j]>min){\n",
    "        max3 = nama[3][j];\n",
    "        }\n",
    "        System.out.print(nama[i][j]+\" \");\n",
    "    }\n",
    "    System.out.println(\"\\n\");\n",
    "}\n",
    "System.out.println();\n",
    "System.out.println(\"a. \"+max0+\" adalah huruf terbesar pada baris 1 berada di kolom 1 dan 3\");\n",
    "System.out.println(\"b. \"+max1+\" adalah huruf terbesar pada baris 2 berada di kolom 1\");\n",
    "System.out.println(\"c. \"+max2+\" adalah huruf terbesar pada baris 3 berada di kolom 5\");\n",
    "System.out.println(\"d. \"+max3+\" adalah huruf terbesar pada baris 4 berada di kolom 5\");"
   ]
  },
  {
   "cell_type": "code",
   "execution_count": 44,
   "id": "46060155",
   "metadata": {},
   "outputs": [
    {
     "name": "stdout",
     "output_type": "stream",
     "text": [
      "Berikut tanggal hari ini: \n",
      "17 November 2021\n"
     ]
    }
   ],
   "source": [
    "//nomor 4//\n",
    "import java.text.SimpleDateFormat;\n",
    "import java.util.Date;\n",
    "String []m = new String[12];\n",
    "m[0] = \"Januari\";\n",
    "m[1] = \"Februari\";\n",
    "m[2] = \"Maret\";\n",
    "m[3] = \"April\";\n",
    "m[4] = \"Mei\";\n",
    "m[5] = \"Juni\";\n",
    "m[6] = \"Juli\";\n",
    "m[7] = \"Agustus\";\n",
    "m[8] = \"September\";\n",
    "m[9] = \"Oktober\";\n",
    "m[10] = \"November\";\n",
    "m[11] = \"Desember\";\n",
    "\n",
    "Date tgl = new Date();\n",
    "\n",
    "SimpleDateFormat d = new SimpleDateFormat(\"d\");\n",
    "String ini_tanggal = d.format(tgl);\n",
    "\n",
    "SimpleDateFormat d = new SimpleDateFormat(\"Y\");\n",
    "String ini_tahun = d.format(tgl);\n",
    "\n",
    "System.out.println(\"Berikut tanggal hari ini: \");\n",
    "System.out.println(ini_tanggal+\" \"+m[10]+\" \"+ini_tahun);"
   ]
  }
 ],
 "metadata": {
  "kernelspec": {
   "display_name": "Java",
   "language": "java",
   "name": "java"
  },
  "language_info": {
   "codemirror_mode": "java",
   "file_extension": ".jshell",
   "mimetype": "text/x-java-source",
   "name": "Java",
   "pygments_lexer": "java",
   "version": "11.0.12+8-LTS-237"
  }
 },
 "nbformat": 4,
 "nbformat_minor": 5
}
