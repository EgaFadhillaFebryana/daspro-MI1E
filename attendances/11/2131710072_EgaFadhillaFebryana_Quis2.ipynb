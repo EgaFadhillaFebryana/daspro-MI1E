{
 "cells": [
  {
   "cell_type": "markdown",
   "id": "c0dfb0c0",
   "metadata": {},
   "source": [
    "Nama : Ega Fadhilla Febryana \n",
    "NIM : 2131710072\n"
   ]
  },
  {
   "cell_type": "markdown",
   "id": "c30bbb3f",
   "metadata": {},
   "source": [
    "1. Buatlah program sehingga bisa menghasilakan tampilan berikut : \n",
    "1 \n",
    "12 \n",
    "123 \n",
    "1234 \n",
    "12345 \n"
   ]
  },
  {
   "cell_type": "code",
   "execution_count": 1,
   "id": "dc73adcc",
   "metadata": {},
   "outputs": [
    {
     "name": "stdout",
     "output_type": "stream",
     "text": [
      "Masukkan Angka : 1\n",
      "1\n"
     ]
    }
   ],
   "source": [
    "Scanner sc = new Scanner(System.in);\n",
    "int n;\n",
    "System.out.print(\"Masukkan Angka : \" );\n",
    "n = sc.nextInt();\n",
    "for(int i = 1; i<=n;i++){\n",
    "    for(int j = 1 ; j<=i;j++){\n",
    "        System.out.print(j);\n",
    "    }\n",
    "    System.out.println();\n",
    "}"
   ]
  },
  {
   "cell_type": "markdown",
   "id": "53bba477",
   "metadata": {},
   "source": [
    "2. Buatlah program sehingga bisa menghasilkan tampilan berikut : \n",
    "1 \n",
    "22 \n",
    "333 \n",
    "4444 \n",
    "55555 \n"
   ]
  },
  {
   "cell_type": "code",
   "execution_count": 2,
   "id": "52f2fa90",
   "metadata": {},
   "outputs": [
    {
     "name": "stdout",
     "output_type": "stream",
     "text": [
      "Masukkan Angka : 2\n",
      "1\n",
      "22\n"
     ]
    }
   ],
   "source": [
    "Scanner sc = new Scanner(System.in);\n",
    "int n;\n",
    "System.out.print(\"Masukkan Angka : \" );\n",
    "n = sc.nextInt();\n",
    "for(int i = 1; i<=n;i++){\n",
    "    for(int j = 1 ; j<=i;j++){\n",
    "        System.out.print(i);\n",
    "    }\n",
    "    System.out.println();\n",
    "}"
   ]
  },
  {
   "cell_type": "code",
   "execution_count": 6,
   "id": "4893a8ad",
   "metadata": {},
   "outputs": [
    {
     "name": "stdout",
     "output_type": "stream",
     "text": [
      "\n",
      " E G H A F\n",
      " A D H I L\n",
      " L A F E B\n",
      " R Y A N A\n",
      "\n",
      "F adalah huruf terbesar pada baris 1 kolom ke 5\n",
      "H adalah huruf terbesar pada baris 2 kolom ke 3\n",
      "A adalah huruf terbesar pada baris 3 kolom ke 2\n",
      "R adalah huruf terbesar pada baris 4 kolom ke 1\n"
     ]
    }
   ],
   "source": [
    "import java.util.Scanner;\n",
    "    Scanner sc = new Scanner(System.in);\n",
    "    String [][]nama = {\n",
    "    {\"E\" , \"G\" , \"H\" , \"A\" , \"F\" },\n",
    "    {\"A\" , \"D\" , \"H\" , \"I\" , \"L\" },\n",
    "    {\"L\" , \"A\" , \"F\" , \"E\" , \"B\" },\n",
    "    {\"R\" , \"Y\" , \"A\" , \"N\" , \"A\" },\n",
    "    };\n",
    "int max = 0, max1 = 0;\n",
    "for (int x = 0; x < nama.length; x++){\n",
    "    System.out.println();\n",
    "        for(int y = 0; y < nama[0].length; y++){\n",
    "        System.out.print(\" \"+ nama[x][y]);\n",
    "    }\n",
    "}\n",
    "    System.out.println(\"\\n\");\n",
    "    System.out.println(nama[0][4]+\" adalah huruf terbesar pada baris 1 kolom ke 5\");\n",
    "    System.out.println(nama[1][2]+\" adalah huruf terbesar pada baris 2 kolom ke 3\");\n",
    "    System.out.println(nama[2][1]+\" adalah huruf terbesar pada baris 3 kolom ke 2\");\n",
    "    System.out.println(nama[3][0]+\" adalah huruf terbesar pada baris 4 kolom ke 1\");"
   ]
  },
  {
   "cell_type": "code",
   "execution_count": 7,
   "id": "5bb7380d",
   "metadata": {},
   "outputs": [
    {
     "name": "stdout",
     "output_type": "stream",
     "text": [
      "17 November 2021"
     ]
    }
   ],
   "source": [
    "import java.text.SimpleDateFormat;\n",
    "import java.util.Date;\n",
    "\n",
    "Date tgl = new Date();\n",
    "String bulann[] = {\"Januari\" , \"Februari\" , \"Maret\" , \"April\" , \"Mei\" , \"Juni\" , \"Juli\" , \"Agustus\" , \"September\" , \"Oktober\" , \"November\" , \"Desember\"};\n",
    "\n",
    "SimpleDateFormat d = new SimpleDateFormat(\"d\");\n",
    "String tanggal = d.format(tgl);\n",
    "SimpleDateFormat d = new SimpleDateFormat(\"M\");\n",
    "String ini_bulan = d.format(tgl);\n",
    "int bulan = Integer.parseInt(ini_bulan);\n",
    "SimpleDateFormat d = new SimpleDateFormat(\"Y\");\n",
    "String tahun = d.format(tgl);\n",
    "System.out.print(tanggal+\" \"+(bulann[bulan-1])+\" \"+tahun);"
   ]
  },
  {
   "cell_type": "code",
   "execution_count": null,
   "id": "6c6db88a",
   "metadata": {},
   "outputs": [],
   "source": []
  }
 ],
 "metadata": {
  "kernelspec": {
   "display_name": "Java",
   "language": "java",
   "name": "java"
  },
  "language_info": {
   "codemirror_mode": "java",
   "file_extension": ".jshell",
   "mimetype": "text/x-java-source",
   "name": "Java",
   "pygments_lexer": "java",
   "version": "11.0.10+8-LTS-162"
  }
 },
 "nbformat": 4,
 "nbformat_minor": 5
}
